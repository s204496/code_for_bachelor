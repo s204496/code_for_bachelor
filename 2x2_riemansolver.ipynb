{
 "cells": [
  {
   "cell_type": "code",
   "execution_count": 73,
   "metadata": {},
   "outputs": [],
   "source": [
    "import numpy as np\n",
    "import math\n",
    "import sys"
   ]
  },
  {
   "attachments": {},
   "cell_type": "markdown",
   "metadata": {},
   "source": [
    "Defining the values of the problem"
   ]
  },
  {
   "cell_type": "code",
   "execution_count": 88,
   "metadata": {},
   "outputs": [],
   "source": [
    "A = np.matrix([[0, 9], [1, 0]])\n",
    "ql = np.matrix([[1], [0]])\n",
    "qr = np.matrix([[4], [0]])"
   ]
  },
  {
   "attachments": {},
   "cell_type": "markdown",
   "metadata": {},
   "source": [
    "Aux function for comparing vectors"
   ]
  },
  {
   "cell_type": "code",
   "execution_count": 89,
   "metadata": {},
   "outputs": [],
   "source": [
    "def compare_vectors(v1, v2):\n",
    "    if not(np.array_equal(v1, v2)):\n",
    "        return False\n",
    "    return np.allclose(v1, v2)"
   ]
  },
  {
   "attachments": {},
   "cell_type": "markdown",
   "metadata": {},
   "source": [
    "Making the Riemann solver"
   ]
  },
  {
   "cell_type": "code",
   "execution_count": 90,
   "metadata": {},
   "outputs": [],
   "source": [
    "#make a random 2x2 matrix of integers\n",
    "def Riemann_solver(q_l, q_r, A):\n",
    "   D, R = np.linalg.eig(A)\n",
    "   i = np.argsort(D)\n",
    "   eigen_v = D[i]\n",
    "   R = R[:, i]\n",
    "   alpha = np.linalg.inv(R) * (q_r - q_l)\n",
    "   q_m1 = q_l + (alpha[0].item() * R[:, 0])\n",
    "   ## making a check of the calculation\n",
    "   q_m2 = q_r - (alpha[1].item() * R[:, 1])\n",
    "   q_m3 = (np.linalg.inv(R)[0,:] * q_r).item() * R[:,0] + (np.linalg.inv(R)[1,:] * q_l).item() * R[:, 1]\n",
    "   if not(compare_vectors(q_m1, q_m2) and compare_vectors(q_m2, q_m3)):\n",
    "      print(\"error\") \n",
    "      quit()\n",
    "   states = {\n",
    "        \"left\": q_l.flatten(),\n",
    "        \"middle\": q_m1.flatten(),\n",
    "        \"right\": q_r.flatten()\n",
    "    }\n",
    "\n",
    "   waves = {\n",
    "       \"left\": round(eigen_v[0],10),\n",
    "       \"right\": round(eigen_v[1],10)\n",
    "   }\n",
    "\n",
    "   return states, waves"
   ]
  },
  {
   "cell_type": "code",
   "execution_count": 91,
   "metadata": {},
   "outputs": [
    {
     "name": "stdout",
     "output_type": "stream",
     "text": [
      "The states are: {'left': matrix([[1, 0]]), 'middle': matrix([[ 2.5, -0.5]]), 'right': matrix([[4, 0]])}\n",
      "The waves are: {'left': -3.0, 'right': 3.0}\n"
     ]
    }
   ],
   "source": [
    "states, waves = Riemann_solver(ql, qr, A)\n",
    "print(\"The states are: \" + str(states))\n",
    "print(\"The waves are: \" + str(waves))"
   ]
  },
  {
   "cell_type": "code",
   "execution_count": null,
   "metadata": {},
   "outputs": [],
   "source": []
  }
 ],
 "metadata": {
  "kernelspec": {
   "display_name": "Python 3",
   "language": "python",
   "name": "python3"
  },
  "language_info": {
   "codemirror_mode": {
    "name": "ipython",
    "version": 3
   },
   "file_extension": ".py",
   "mimetype": "text/x-python",
   "name": "python",
   "nbconvert_exporter": "python",
   "pygments_lexer": "ipython3",
   "version": "3.11.1"
  },
  "orig_nbformat": 4,
  "vscode": {
   "interpreter": {
    "hash": "e7370f93d1d0cde622a1f8e1c04877d8463912d04d973331ad4851f04de6915a"
   }
  }
 },
 "nbformat": 4,
 "nbformat_minor": 2
}
