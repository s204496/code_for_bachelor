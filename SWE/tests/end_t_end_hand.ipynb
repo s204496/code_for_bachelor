{
 "cells": [
  {
   "attachments": {},
   "cell_type": "markdown",
   "metadata": {},
   "source": [
    "Here is the hand calculated examples of the end to end tests"
   ]
  },
  {
   "cell_type": "code",
   "execution_count": 3,
   "metadata": {},
   "outputs": [],
   "source": [
    "# imports\n",
    "import sys\n",
    "import numpy as np\n",
    "sys.path.append('../../SWE')\n",
    "from aux_functions import f, discritization \n",
    "from numerical_schemes import lax_friedrich, godunov_upwind, tvd_waf"
   ]
  },
  {
   "attachments": {},
   "cell_type": "markdown",
   "metadata": {},
   "source": [
    "# Lax Friedrich end to end test"
   ]
  },
  {
   "cell_type": "code",
   "execution_count": 4,
   "metadata": {},
   "outputs": [],
   "source": [
    "def general_lax(W, dx):\n",
    "    U = np.empty((5,3))\n",
    "    U[:,0], U[:,1], U[:,2] = W[:,0], W[:,0]*W[:,1], W[:,0]*W[:,2] \n",
    "    dt = discritization.center_dt(W, dx, 3, 9.8, 0.9)\n",
    "    fluxes = np.array([f.flux_from_w(W[1,:], 9.8), f.flux_from_w(W[2,:], 9.8), f.flux_from_w(W[3,:], 9.8)])\n",
    "    lax_l_flux = 1/2*(fluxes[0]+fluxes[1])+1/2*dx/dt*(U[1,:]-U[2,:])\n",
    "    lax_r_flux = 1/2*(fluxes[1]+fluxes[2])+1/2*dx/dt*(U[2,:]-U[3,:])\n",
    "    new_U = U[2]-dt/dx*(lax_r_flux-lax_l_flux)\n",
    "    print(\"U after operations: \" + str(new_U) + \" dt after operations: \" + str(dt))"
   ]
  },
  {
   "cell_type": "code",
   "execution_count": 28,
   "metadata": {},
   "outputs": [
    {
     "name": "stdout",
     "output_type": "stream",
     "text": [
      "U after operations: [1.54200798 1.19371525 0.26890837] dt after operations: 7.563346215904787e-06\n"
     ]
    }
   ],
   "source": [
    "# test1 lax_friedrich\n",
    "general_lax(np.array([[0.5,1,1], [0.5,1,1],[10,-2,0], [3,2,0], [3,2,0]]) , 0.0001)\n"
   ]
  },
  {
   "cell_type": "code",
   "execution_count": 6,
   "metadata": {},
   "outputs": [
    {
     "name": "stdout",
     "output_type": "stream",
     "text": [
      "U after operations: [0.74980481 2.13721326 0.69980481] dt after operations: 0.015984384553513663\n"
     ]
    }
   ],
   "source": [
    "# test2 left sonic rarefaction lax_friedrich\n",
    "general_lax(np.array([[1.0,2.5,1], [1.0,2.5,1],[0.1,0.0,0], [0.1,0.0,0], [0.1,0.0,0]]) , 0.1)"
   ]
  },
  {
   "cell_type": "code",
   "execution_count": 36,
   "metadata": {},
   "outputs": [
    {
     "name": "stdout",
     "output_type": "stream",
     "text": [
      "U after operations: [ 0.74980481 -2.13721326  0.74980481] dt after operations: 0.015984384553513663\n"
     ]
    }
   ],
   "source": [
    "# test3 right sonic rarefaction lax_friedrich\n",
    "general_lax(np.array([[0.1,0.0,1], [0.1,0.0,1],[0.1,0.0,1], [1.0,-2.5,1], [1.0,-2.5,1]]), 0.1)"
   ]
  },
  {
   "cell_type": "code",
   "execution_count": 9,
   "metadata": {},
   "outputs": [
    {
     "name": "stdout",
     "output_type": "stream",
     "text": [
      "U after operations: [3.28465155e+00 2.22044605e-16 3.28465155e+00] dt after operations: 0.014848578318319112\n"
     ]
    }
   ],
   "source": [
    "# test4: 2 shock for Lax-Friedrichs\n",
    "general_lax(np.array([[3.0,0.6390096505,1], [3.0,0.6390096505,1],[3.0,0.6390096505,1], [3.0,-0.6390096505,1], [3.0,-0.6390096505,1]]), 0.1)"
   ]
  },
  {
   "cell_type": "code",
   "execution_count": 10,
   "metadata": {},
   "outputs": [
    {
     "name": "stdout",
     "output_type": "stream",
     "text": [
      "U after operations: [0.44652817 0.         0.22326409] dt after operations: 0.011069436502304375\n"
     ]
    }
   ],
   "source": [
    "# test5: 2 rarefaction and nearly dry test for Lax-Friedrichs\n",
    "general_lax(np.array([[1.0,-5,1], [1.0,-5,1],[1.0,-5,1], [1.0,5.0,0], [1.0,5.0,0]]) , 0.1)"
   ]
  },
  {
   "attachments": {},
   "cell_type": "markdown",
   "metadata": {},
   "source": [
    "# Godunov-Upwind end to end test"
   ]
  },
  {
   "attachments": {},
   "cell_type": "markdown",
   "metadata": {},
   "source": [
    "## Exact solver and HLLC\n",
    "If you want the hllc solver just set the thrid parameter in general_godunov method equal to 1, if you want the exact set it to 0."
   ]
  },
  {
   "cell_type": "code",
   "execution_count": 12,
   "metadata": {},
   "outputs": [],
   "source": [
    "def general_godunov(W, dx, solver):\n",
    "    U = np.empty((5,3))\n",
    "    U[:,0], U[:,1], U[:,2] = W[:,0], W[:,0]*W[:,1], W[:,0]*W[:,2] \n",
    "    (dt, fluxes) = discritization.flux_at_boundaries(W, 9.8, 3, solver, dx, 10e-8, 50, 0.9)\n",
    "    new_U = U[2]-dt/dx*(fluxes[2]-fluxes[1])\n",
    "    print(\"U after operations: \" + str(new_U) + \" dt after operations: \" + str(dt))"
   ]
  },
  {
   "cell_type": "code",
   "execution_count": 39,
   "metadata": {},
   "outputs": [
    {
     "name": "stdout",
     "output_type": "stream",
     "text": [
      "U after operations: [4.66587718 2.5190076  0.        ] dt after operations: 0.0075633462159047865\n"
     ]
    }
   ],
   "source": [
    "# test1 godunov\n",
    "general_godunov(np.array([[0.5,1,1], [0.5,1,1],[10,-2,0], [3,2,0], [3,2,0]]) , 0.1, 1)"
   ]
  },
  {
   "cell_type": "code",
   "execution_count": 40,
   "metadata": {},
   "outputs": [
    {
     "name": "stdout",
     "output_type": "stream",
     "text": [
      "U after operations: [0.5062241  1.77163035 0.4062241 ] dt after operations: 0.015984384553513663\n"
     ]
    }
   ],
   "source": [
    "# test2 left sonic rarefaction godunov\n",
    "general_godunov(np.array([[1.0,2.5,1], [1.0,2.5,1],[0.1,0.0,0], [0.1,0.0,0], [0.1,0.0,0]]) , 0.1, 1)"
   ]
  },
  {
   "cell_type": "code",
   "execution_count": 41,
   "metadata": {},
   "outputs": [
    {
     "name": "stdout",
     "output_type": "stream",
     "text": [
      "U after operations: [ 0.5062241  -1.77163035  0.5062241 ] dt after operations: 0.015984384553513663\n"
     ]
    }
   ],
   "source": [
    "# test3 right sonic rarefaction godunov\n",
    "general_godunov(np.array([[0.1,0.0,1], [0.1,0.0,1],[0.1,0.0,1], [1.0,-2.5,1], [1.0,-2.5,1]]) , 0.1, 1)"
   ]
  },
  {
   "cell_type": "code",
   "execution_count": 42,
   "metadata": {},
   "outputs": [
    {
     "name": "stdout",
     "output_type": "stream",
     "text": [
      "U after operations: [3.28465155 0.41570326 3.28465155] dt after operations: 0.014848578318319112\n"
     ]
    }
   ],
   "source": [
    "# test4: 2 shock for godunov\n",
    "general_godunov(np.array([[3.0,0.6390096505,1], [3.0,0.6390096505,1],[3.0,0.6390096505,1], [3.0,-0.6390096505,1], [3.0,-0.6390096505,1]]) , 0.1, 1)"
   ]
  },
  {
   "cell_type": "code",
   "execution_count": 43,
   "metadata": {},
   "outputs": [
    {
     "name": "stdout",
     "output_type": "stream",
     "text": [
      "U after operations: [ 0.44652817 -0.5         0.44652817] dt after operations: 0.011069436502304375\n"
     ]
    }
   ],
   "source": [
    "# test5: 2 rarefaction and nearly dry test for godunov\n",
    "general_godunov(np.array([[1.0,-5,1], [1.0,-5,1],[1.0,-5,1], [1.0,5.0,0], [1.0,5.0,0]]) , 0.1, 1)\n"
   ]
  },
  {
   "attachments": {},
   "cell_type": "markdown",
   "metadata": {},
   "source": [
    "# TVD_WAF end to end test"
   ]
  },
  {
   "attachments": {},
   "cell_type": "markdown",
   "metadata": {},
   "source": [
    "If you want the hllc solver just set the thrid parameter in general_tvd_waf method equal to 1, if you want the exact set it to 0."
   ]
  },
  {
   "cell_type": "code",
   "execution_count": null,
   "metadata": {},
   "outputs": [],
   "source": [
    "def general_tvd_waf(W, dx, solver):\n",
    "    U = np.empty((7,3))\n",
    "    U[:,0], U[:,1], U[:,2] = W[:,0], W[:,0]*W[:,1], W[:,0]*W[:,2] \n",
    "    (dt, fluxes) = discritization.flux_at_boundaries(W, 9.8, 3, solver, dx, 10e-8, 50, 0.9)\n",
    "    new_U = U[2]-dt/dx*(fluxes[2]-fluxes[1])\n",
    "    print(\"U after operations: \" + str(new_U) + \" dt after operations: \" + str(dt))"
   ]
  },
  {
   "cell_type": "code",
   "execution_count": null,
   "metadata": {},
   "outputs": [
    {
     "name": "stdout",
     "output_type": "stream",
     "text": [
      "U after operations: [4.66587718 2.5190076  0.        ] dt after operations: 0.0075633462159047865\n"
     ]
    }
   ],
   "source": [
    "# Test1 tvd_waf \n",
    "general_tvd_waf(np.array([[0.5,1,1], [0.5,1,1], [0.5,1,1],[10,-2,0], [3,2,0], [3,2,0], [3,2,0]]) , 0.1, 1)"
   ]
  },
  {
   "cell_type": "code",
   "execution_count": null,
   "metadata": {},
   "outputs": [
    {
     "name": "stdout",
     "output_type": "stream",
     "text": [
      "U after operations: [0.5062241  1.77163035 0.4062241 ] dt after operations: 0.015984384553513663\n"
     ]
    }
   ],
   "source": [
    "# Test2 left sonic rarefaction godunov\n",
    "general_godunov(np.array([[1.0,2.5,1], [1.0,2.5,1],[0.1,0.0,0], [0.1,0.0,0], [0.1,0.0,0]]) , 0.1, 1)"
   ]
  },
  {
   "cell_type": "code",
   "execution_count": null,
   "metadata": {},
   "outputs": [
    {
     "name": "stdout",
     "output_type": "stream",
     "text": [
      "U after operations: [ 0.5062241  -1.77163035  0.5062241 ] dt after operations: 0.015984384553513663\n"
     ]
    }
   ],
   "source": [
    "# Test3 right sonic rarefaction godunov\n",
    "general_godunov(np.array([[0.1,0.0,1], [0.1,0.0,1],[0.1,0.0,1], [1.0,-2.5,1], [1.0,-2.5,1]]) , 0.1, 1)"
   ]
  },
  {
   "cell_type": "code",
   "execution_count": null,
   "metadata": {},
   "outputs": [
    {
     "name": "stdout",
     "output_type": "stream",
     "text": [
      "U after operations: [3.28465155 0.41570326 3.28465155] dt after operations: 0.014848578318319112\n"
     ]
    }
   ],
   "source": [
    "# Test4: 2 shock for godunov\n",
    "general_godunov(np.array([[3.0,0.6390096505,1], [3.0,0.6390096505,1],[3.0,0.6390096505,1], [3.0,-0.6390096505,1], [3.0,-0.6390096505,1]]) , 0.1, 1)"
   ]
  },
  {
   "cell_type": "code",
   "execution_count": null,
   "metadata": {},
   "outputs": [
    {
     "name": "stdout",
     "output_type": "stream",
     "text": [
      "U after operations: [ 0.44652817 -0.5         0.44652817] dt after operations: 0.011069436502304375\n"
     ]
    }
   ],
   "source": [
    "# Test5: 2 rarefaction and nearly dry test for godunov\n",
    "general_godunov(np.array([[1.0,-5,1], [1.0,-5,1],[1.0,-5,1], [1.0,5.0,0], [1.0,5.0,0]]) , 0.1, 1)\n"
   ]
  }
 ],
 "metadata": {
  "kernelspec": {
   "display_name": "Python 3",
   "language": "python",
   "name": "python3"
  },
  "language_info": {
   "codemirror_mode": {
    "name": "ipython",
    "version": 3
   },
   "file_extension": ".py",
   "mimetype": "text/x-python",
   "name": "python",
   "nbconvert_exporter": "python",
   "pygments_lexer": "ipython3",
   "version": "3.11.3"
  },
  "orig_nbformat": 4
 },
 "nbformat": 4,
 "nbformat_minor": 2
}
