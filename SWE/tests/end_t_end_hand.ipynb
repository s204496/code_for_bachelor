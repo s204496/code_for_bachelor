{
 "cells": [
  {
   "attachments": {},
   "cell_type": "markdown",
   "metadata": {},
   "source": [
    "Here is the hand calculated examples of the end to end tests"
   ]
  },
  {
   "cell_type": "code",
   "execution_count": 10,
   "metadata": {},
   "outputs": [],
   "source": [
    "#imports\n",
    "import sys\n",
    "import numpy as np\n",
    "sys.path.append('../../SWE')\n",
    "from aux_functions import f, discritization \n",
    "from numerical_schemes import lax_friedrich, godunov_upwind, tvd_waf"
   ]
  },
  {
   "cell_type": "code",
   "execution_count": 15,
   "metadata": {},
   "outputs": [
    {
     "name": "stdout",
     "output_type": "stream",
     "text": [
      "[[  0.5   0.5   0.5]\n",
      " [  0.5   0.5   0.5]\n",
      " [ 10.  -20.    0. ]\n",
      " [  3.    6.    0. ]\n",
      " [  3.    6.    0. ]]\n",
      "[[ 5.000e-01  1.725e+00  5.000e-01]\n",
      " [-2.000e+01  5.300e+02 -0.000e+00]\n",
      " [ 6.000e+00  5.610e+01  0.000e+00]]\n",
      "lax flux left: [-72.55288994 401.38452567   3.55541526]lax flux right: [ 39.27581364 121.16840647   0.        ]\n",
      "U after operations: [1.54200798 1.19371525 0.26890837]dt after operations: 0.0075633462159047865\n"
     ]
    }
   ],
   "source": [
    "# test1 lax_friedrich\n",
    "W = np.array([[0.5,1,1], [0.5,1,1],[10,-2,0], [3,2,0], [3,2,0]])\n",
    "U = np.empty((5,3))\n",
    "U[:,0], U[:,1], U[:,2] = W[:,0], W[:,0]*W[:,1], W[:,0]*W[:,2] \n",
    "print(str(U))\n",
    "dt = discritization.center_dt(W, 0.1, 3, 9.8, 0.9)\n",
    "fluxes = np.array([f.flux_from_w(W[1,:], 9.8), f.flux_from_w(W[2,:], 9.8), f.flux_from_w(W[3,:], 9.8)])\n",
    "print(str(fluxes))\n",
    "lax_l_flux = 1/2*(fluxes[0]+fluxes[1])+1/2*0.1/dt*(U[1,:]-U[2,:])\n",
    "lax_r_flux = 1/2*(fluxes[1]+fluxes[2])+1/2*0.1/dt*(U[2,:]-U[3,:])\n",
    "print(\"lax flux left: \" + str(lax_l_flux) + \"lax flux right: \" + str(lax_r_flux))\n",
    "new_U = U[2]-dt/0.1*(lax_r_flux-lax_l_flux)\n",
    "print(\"U after operations: \" + str(new_U) + \"dt after operations: \" + str(dt))"
   ]
  },
  {
   "cell_type": "code",
   "execution_count": null,
   "metadata": {},
   "outputs": [],
   "source": []
  }
 ],
 "metadata": {
  "kernelspec": {
   "display_name": "Python 3",
   "language": "python",
   "name": "python3"
  },
  "language_info": {
   "codemirror_mode": {
    "name": "ipython",
    "version": 3
   },
   "file_extension": ".py",
   "mimetype": "text/x-python",
   "name": "python",
   "nbconvert_exporter": "python",
   "pygments_lexer": "ipython3",
   "version": "3.11.3"
  },
  "orig_nbformat": 4
 },
 "nbformat": 4,
 "nbformat_minor": 2
}
