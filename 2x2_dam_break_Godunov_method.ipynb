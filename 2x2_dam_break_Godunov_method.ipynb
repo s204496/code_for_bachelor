{
 "cells": [
  {
   "attachments": {},
   "cell_type": "markdown",
   "metadata": {},
   "source": [
    "In this file we solve a 2x2 linear hyperbolic equation system with Godunovs method. "
   ]
  },
  {
   "attachments": {},
   "cell_type": "markdown",
   "metadata": {},
   "source": [
    "imports:"
   ]
  },
  {
   "cell_type": "code",
   "execution_count": 2,
   "metadata": {},
   "outputs": [],
   "source": [
    "import numpy as np\n",
    "import matplotlib.pyplot as plt\n",
    "import math\n",
    "import sys"
   ]
  },
  {
   "attachments": {},
   "cell_type": "markdown",
   "metadata": {},
   "source": [
    "The formulation of the problem, we have A, ql, qr of the dam break problem:\n",
    "\n",
    "$$ A = \\begin{bmatrix} 2 & 3 \\\\ 4 & 1 \\end{bmatrix} \\; \\; q_l=\\begin{bmatrix} 1 \\\\ 2 \\end{bmatrix}  \\;\\; q_r=\\begin{bmatrix} 2 \\\\ -3 \\end{bmatrix} $$"
   ]
  },
  {
   "cell_type": "code",
   "execution_count": 3,
   "metadata": {},
   "outputs": [],
   "source": [
    "A = np.matrix([[2, 3], [4, 1]])\n",
    "ql = np.matrix([[1], [2]])\n",
    "qr = np.matrix([[2], [-3]])"
   ]
  },
  {
   "attachments": {},
   "cell_type": "markdown",
   "metadata": {},
   "source": [
    "Make a Riemann solver for 2x2 matrices:"
   ]
  },
  {
   "cell_type": "code",
   "execution_count": 4,
   "metadata": {},
   "outputs": [],
   "source": [
    "def compare_vectors(v1, v2):\n",
    "    if not(np.array_equal(v1, v2)):\n",
    "        return False\n",
    "    return np.allclose(v1, v2)\n",
    "\n",
    "#make a random 2x2 matrix of integers\n",
    "def Riemann_solver(q_l, q_r, A):\n",
    "   D, R = np.linalg.eig(A)\n",
    "   i = np.argsort(D)\n",
    "   eigen_v = D[i]\n",
    "   R = R[:, i]\n",
    "   L = np.linalg.inv(R)\n",
    "   alpha = L * (q_r - q_l)\n",
    "   q_m1 = q_l + (alpha[0].item() * R[:, 0])\n",
    "   ## making a check of the calculation\n",
    "   states = {\n",
    "        \"left\": q_l.flatten(),\n",
    "        \"middle\": q_m1.flatten(),\n",
    "        \"right\": q_r.flatten()\n",
    "    }\n",
    "\n",
    "   waves = {\n",
    "       \"left\": round(eigen_v[0],10),\n",
    "       \"right\": round(eigen_v[1],10)\n",
    "   }\n",
    "\n",
    "   return states, waves"
   ]
  },
  {
   "attachments": {},
   "cell_type": "markdown",
   "metadata": {},
   "source": [
    "Initial data:"
   ]
  },
  {
   "cell_type": "code",
   "execution_count": 5,
   "metadata": {},
   "outputs": [
    {
     "data": {
      "text/plain": [
       "[<matplotlib.lines.Line2D at 0x7f51d2d175d0>]"
      ]
     },
     "execution_count": 5,
     "metadata": {},
     "output_type": "execute_result"
    },
    {
     "data": {
      "image/png": "[encoded data removed]",
      "text/plain": [
       "<Figure size 640x480 with 2 Axes>"
      ]
     },
     "metadata": {},
     "output_type": "display_data"
    }
   ],
   "source": [
    "# we have x on an interval [0,2], t = [0,1] and we timestep each in 1001 steps, which gives us 1000 intervals\n",
    "x_points = 10000\n",
    "timesteps = 6000\n",
    "x_length = 8\n",
    "t_length = 2\n",
    "x = np.linspace(-4,4,x_points+1)\n",
    "\n",
    "# defining initial for a dambreak wave \n",
    "initial_dam_break = np.zeros((2,x_points+1))\n",
    "for i in range(0,2):\n",
    "    for j in range(0,x_points+1):\n",
    "        if j < int(x_points/2):\n",
    "            initial_dam_break[i][j] = ql[i][0].item()\n",
    "        else:\n",
    "            initial_dam_break[i][j] = qr[i][0].item()\n",
    "\n",
    "#defining time interval and speed (u hat)\n",
    "t_array = np.linspace(0,t_length,timesteps)\n",
    "u_hat = 1.5 # this is u hat\n",
    "\n",
    "#plot initial waves\n",
    "fig, (ax1, ax2) = plt.subplots(1,2)\n",
    "ax1.plot(x,initial_dam_break[0])\n",
    "ax2.plot(x,initial_dam_break[1])"
   ]
  },
  {
   "cell_type": "code",
   "execution_count": 6,
   "metadata": {},
   "outputs": [
    {
     "data": {
      "text/plain": [
       "({'left': matrix([[1, 2]]),\n",
       "  'middle': matrix([[ 3.57142857, -1.42857143]]),\n",
       "  'right': matrix([[ 2, -3]])},\n",
       " {'left': -2.0, 'right': 5.0})"
      ]
     },
     "execution_count": 6,
     "metadata": {},
     "output_type": "execute_result"
    }
   ],
   "source": [
    "Riemann_solver(ql, qr, A)"
   ]
  },
  {
   "cell_type": "code",
   "execution_count": null,
   "metadata": {},
   "outputs": [],
   "source": []
  }
 ],
 "metadata": {
  "kernelspec": {
   "display_name": "Python 3",
   "language": "python",
   "name": "python3"
  },
  "language_info": {
   "codemirror_mode": {
    "name": "ipython",
    "version": 3
   },
   "file_extension": ".py",
   "mimetype": "text/x-python",
   "name": "python",
   "nbconvert_exporter": "python",
   "pygments_lexer": "ipython3",
   "version": "3.11.1"
  },
  "orig_nbformat": 4,
  "vscode": {
   "interpreter": {
    "hash": "e7370f93d1d0cde622a1f8e1c04877d8463912d04d973331ad4851f04de6915a"
   }
  }
 },
 "nbformat": 4,
 "nbformat_minor": 2
}
